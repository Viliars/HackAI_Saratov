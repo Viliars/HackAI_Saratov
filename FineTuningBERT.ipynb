{
 "cells": [
  {
   "cell_type": "markdown",
   "metadata": {
    "id": "iyJdVYzOncBd"
   },
   "source": [
    "# Чемпионат Саратовской области - доп. материал\n",
    "\n",
    "Задача: классифицировать категории товаров в огромном наборе различных наименований"
   ]
  },
  {
   "cell_type": "code",
   "execution_count": 1,
   "metadata": {},
   "outputs": [],
   "source": [
    "import pandas as pd\n",
    "import numpy as np\n",
    "import warnings\n",
    "warnings.filterwarnings(\"ignore\")"
   ]
  },
  {
   "cell_type": "code",
   "execution_count": 2,
   "metadata": {
    "id": "4LBwgqxpn54b"
   },
   "outputs": [],
   "source": [
    "df_train = pd.read_csv(\"train_dataset_train.csv\")\n",
    "df_test = pd.read_csv(\"test_dataset_test.csv\")"
   ]
  },
  {
   "cell_type": "markdown",
   "metadata": {
    "id": "GywlangPRAEm"
   },
   "source": [
    "### Препроцессинг\n",
    "\n",
    "1) Удаление пунктуации\n",
    "\n",
    "2) Перевод ошибочных латинских букв в названиях в русские\n",
    "\n",
    "3) Удаление всех цифр\n",
    "\n",
    "4) Удаление стоп-слов"
   ]
  },
  {
   "cell_type": "code",
   "execution_count": 3,
   "metadata": {
    "colab": {
     "base_uri": "https://localhost:8080/",
     "height": 257
    },
    "id": "gvcl_K3FQ-os",
    "outputId": "05646ca9-7c12-4160-8e91-2f71c91aca54"
   },
   "outputs": [
    {
     "name": "stderr",
     "output_type": "stream",
     "text": [
      "[nltk_data] Downloading package stopwords to /home/viliar/nltk_data...\n",
      "[nltk_data]   Package stopwords is already up-to-date!\n"
     ]
    }
   ],
   "source": [
    "import nltk\n",
    "nltk.download(\"stopwords\")\n",
    "from nltk.corpus import stopwords\n",
    "from string import punctuation\n",
    "import re\n",
    "russian_stopwords = stopwords.words(\"russian\")\n",
    "\n",
    "lat_rus_dict = {'a': 'а', 'b': 'в', 'c': 'с', 'e': 'е', 'h': 'н', 'k': 'к', 'm': 'м',\n",
    "           'n': 'п', 'o': 'о', 'p': 'р', 't': 'т', 'u': 'и', 'x': 'х', 'y': 'у',\n",
    "           'd': 'д', 'f': 'ф', 'g': 'г', 'i': 'и', 'j': 'ж', 'l': 'л', 'q': 'к',\n",
    "           'r': 'р', 's': 'с', 'v': 'в', 'w': 'в', 'z': 'з'}\n",
    "\n",
    "lat_rus_table = str.maketrans(lat_rus_dict)\n",
    "                \n",
    "def lat_rus(text):\n",
    "    return text.translate(lat_rus_table)\n",
    "\n",
    "# Удаление знаков пунктуации из текста\n",
    "def remove_punct(text):\n",
    "    table = {33: ' ', 34: ' ', 35: ' ', 36: ' ', 37: ' ', 38: ' ', 39: ' ', 40: ' ', 41: ' ', 42: ' ', 43: ' ', 44: ' ', 45: ' ', 46: ' ', 47: ' ', 58: ' ', 59: ' ', 60: ' ', 61: ' ', 62: ' ', 63: ' ', 64: ' ', 91: ' ', 92: ' ', 93: ' ', 94: ' ', 95: ' ', 96: ' ', 123: ' ', 124: ' ', 125: ' ', 126: ' '}\n",
    "    return text.translate(table)\n",
    "\n",
    "def preprocess(df):\n",
    "    df['name_clean'] = df['name'].map(lambda x: x.lower())\n",
    "    df['name_clean'] = df['name_clean'].map(lambda x: remove_punct(x))\n",
    "    df['name_clean'] = df['name_clean'].map(lambda x: lat_rus(x))\n",
    "    df['name_clean'] = df['name_clean'].map(lambda x: re.sub(r'\\d+', ' ', x))\n",
    "    df['name_clean'] = df['name_clean'].map(lambda x: x.split(' '))\n",
    "    df['name_clean'] = df['name_clean'].map(lambda x: [token for token in x if token not in russian_stopwords\\\n",
    "                                                                      and token != \" \" \\\n",
    "                                                                      and token.strip() not in punctuation])\n",
    "\n",
    "#     for i in range(5, 50, 5):\n",
    "#         df[f'top{i}'] = df['name_clean'].map(lambda x: ' '.join(x[:i]))\n",
    "    \n",
    "    df['name_clean'] = df['name_clean'].map(lambda x: ' '.join(x))\n",
    "    \n",
    "    return df"
   ]
  },
  {
   "cell_type": "markdown",
   "metadata": {},
   "source": [
    "##### Применяем метод препроцессинга данных"
   ]
  },
  {
   "cell_type": "code",
   "execution_count": 4,
   "metadata": {},
   "outputs": [],
   "source": [
    "df_train = preprocess(df_train)\n",
    "df_test = preprocess(df_test)"
   ]
  },
  {
   "cell_type": "code",
   "execution_count": 9,
   "metadata": {},
   "outputs": [],
   "source": [
    "train = pd.DataFrame(df_train[['name_clean', 'groups']])\n",
    "train.columns = [\"text\", \"labels\"]"
   ]
  },
  {
   "cell_type": "markdown",
   "metadata": {},
   "source": [
    "### Импортируем все что нужно для дообучения"
   ]
  },
  {
   "cell_type": "code",
   "execution_count": 10,
   "metadata": {
    "id": "lmalRfYZq1Xa"
   },
   "outputs": [],
   "source": [
    "from simpletransformers.classification import ClassificationModel, ClassificationArgs"
   ]
  },
  {
   "cell_type": "markdown",
   "metadata": {},
   "source": [
    "### Создаем конфиг"
   ]
  },
  {
   "cell_type": "code",
   "execution_count": 8,
   "metadata": {},
   "outputs": [],
   "source": [
    "model_args = ClassificationArgs(num_train_epochs=10, reprocess_input_data=True, overwrite_output_dir=True,\n",
    "                               optimizer=\"AdamW\", scheduler=\"linear_schedule_with_warmup\", weight_decay=0,\n",
    "                               sliding_window=False, config={\"output_hidden_states\": True})"
   ]
  },
  {
   "cell_type": "markdown",
   "metadata": {},
   "source": [
    "### Так как некоторые классы пропущены  - требуется чтобы классы шли непрерывно - перекодируем их"
   ]
  },
  {
   "cell_type": "code",
   "execution_count": 24,
   "metadata": {},
   "outputs": [],
   "source": [
    "old_group2new_group = {k: v for k, v in zip(train['labels'].value_counts().sort_index().index, \n",
    "                                range(len(train['labels'].value_counts())))}\n",
    "new_group2old_group = {k: v for k, v in zip(range(len(train['labels'].value_counts())), train['labels'].value_counts().sort_index().index)}\n",
    "\n",
    "train['labels'] = train['labels'].map(old_group2new_group)"
   ]
  },
  {
   "cell_type": "markdown",
   "metadata": {},
   "source": [
    "### Class balanced"
   ]
  },
  {
   "cell_type": "code",
   "execution_count": 33,
   "metadata": {},
   "outputs": [],
   "source": [
    "coef = 20\n",
    "count_by_group = np.bincount(train['labels'])\n",
    "weight = list(len(train['labels']) / (coef * count_by_group))\n",
    "num_labels = len(train['labels'].value_counts())"
   ]
  },
  {
   "cell_type": "code",
   "execution_count": 34,
   "metadata": {},
   "outputs": [
    {
     "name": "stderr",
     "output_type": "stream",
     "text": [
      "Some weights of the model checkpoint at cointegrated/rubert-tiny2 were not used when initializing BertForSequenceClassification: ['cls.predictions.transform.LayerNorm.weight', 'cls.predictions.bias', 'cls.predictions.decoder.bias', 'cls.predictions.transform.dense.bias', 'cls.predictions.transform.dense.weight', 'cls.predictions.decoder.weight', 'cls.predictions.transform.LayerNorm.bias', 'cls.seq_relationship.weight', 'cls.seq_relationship.bias']\n",
      "- This IS expected if you are initializing BertForSequenceClassification from the checkpoint of a model trained on another task or with another architecture (e.g. initializing a BertForSequenceClassification model from a BertForPreTraining model).\n",
      "- This IS NOT expected if you are initializing BertForSequenceClassification from the checkpoint of a model that you expect to be exactly identical (initializing a BertForSequenceClassification model from a BertForSequenceClassification model).\n",
      "Some weights of BertForSequenceClassification were not initialized from the model checkpoint at cointegrated/rubert-tiny2 and are newly initialized: ['classifier.bias', 'classifier.weight']\n",
      "You should probably TRAIN this model on a down-stream task to be able to use it for predictions and inference.\n"
     ]
    }
   ],
   "source": [
    "model_new = ClassificationModel(\n",
    "    model_type='bert',\n",
    "    model_name=\"cointegrated/rubert-tiny2\", \n",
    "    tokenizer_name=\"cointegrated/rubert-tiny2\", \n",
    "    num_labels=num_labels,\n",
    "    weight=weight,\n",
    "    use_cuda=True,\n",
    "    args=model_args\n",
    ")"
   ]
  },
  {
   "cell_type": "code",
   "execution_count": null,
   "metadata": {},
   "outputs": [],
   "source": [
    "model_new.train_model(train)"
   ]
  },
  {
   "cell_type": "markdown",
   "metadata": {},
   "source": [
    "### Это очень, очень долго."
   ]
  }
 ],
 "metadata": {
  "colab": {
   "name": "rosstat_baseline.ipynb",
   "provenance": []
  },
  "kernelspec": {
   "display_name": "Python 3 (ipykernel)",
   "language": "python",
   "name": "python3"
  },
  "language_info": {
   "codemirror_mode": {
    "name": "ipython",
    "version": 3
   },
   "file_extension": ".py",
   "mimetype": "text/x-python",
   "name": "python",
   "nbconvert_exporter": "python",
   "pygments_lexer": "ipython3",
   "version": "3.8.10"
  }
 },
 "nbformat": 4,
 "nbformat_minor": 1
}
