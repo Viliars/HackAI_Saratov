{
 "cells": [
  {
   "cell_type": "markdown",
   "metadata": {
    "id": "iyJdVYzOncBd"
   },
   "source": [
    "# Чемпионат Саратовской области\n",
    "\n",
    "Задача: классифицировать категории товаров в огромном наборе различных наименований"
   ]
  },
  {
   "cell_type": "code",
   "execution_count": 35,
   "metadata": {},
   "outputs": [],
   "source": [
    "import pandas as pd\n",
    "import numpy as np\n",
    "import warnings\n",
    "warnings.filterwarnings(\"ignore\")"
   ]
  },
  {
   "cell_type": "code",
   "execution_count": 36,
   "metadata": {
    "id": "4LBwgqxpn54b"
   },
   "outputs": [],
   "source": [
    "df_train = pd.read_csv(\"train_dataset_train.csv\")\n",
    "df_test = pd.read_csv(\"test_dataset_test.csv\")"
   ]
  },
  {
   "cell_type": "markdown",
   "metadata": {
    "id": "GywlangPRAEm"
   },
   "source": [
    "### Препроцессинг\n",
    "\n",
    "1) Удаление пунктуации\n",
    "\n",
    "2) Перевод ошибочных латинских букв в названиях в русские\n",
    "\n",
    "3) Удаление всех цифр\n",
    "\n",
    "4) Удаление стоп-слов"
   ]
  },
  {
   "cell_type": "code",
   "execution_count": 37,
   "metadata": {
    "colab": {
     "base_uri": "https://localhost:8080/",
     "height": 257
    },
    "id": "gvcl_K3FQ-os",
    "outputId": "05646ca9-7c12-4160-8e91-2f71c91aca54"
   },
   "outputs": [
    {
     "name": "stderr",
     "output_type": "stream",
     "text": [
      "[nltk_data] Downloading package stopwords to /home/viliar/nltk_data...\n",
      "[nltk_data]   Package stopwords is already up-to-date!\n"
     ]
    }
   ],
   "source": [
    "import nltk\n",
    "nltk.download(\"stopwords\")\n",
    "from nltk.corpus import stopwords\n",
    "from string import punctuation\n",
    "import re\n",
    "russian_stopwords = stopwords.words(\"russian\")\n",
    "\n",
    "lat_rus_dict = {'a': 'а', 'b': 'в', 'c': 'с', 'e': 'е', 'h': 'н', 'k': 'к', 'm': 'м',\n",
    "           'n': 'п', 'o': 'о', 'p': 'р', 't': 'т', 'u': 'и', 'x': 'х', 'y': 'у',\n",
    "           'd': 'д', 'f': 'ф', 'g': 'г', 'i': 'и', 'j': 'ж', 'l': 'л', 'q': 'к',\n",
    "           'r': 'р', 's': 'с', 'v': 'в', 'w': 'в', 'z': 'з'}\n",
    "\n",
    "lat_rus_table = str.maketrans(lat_rus_dict)\n",
    "                \n",
    "def lat_rus(text):\n",
    "    return text.translate(lat_rus_table)\n",
    "\n",
    "# Удаление знаков пунктуации из текста\n",
    "def remove_punct(text):\n",
    "    table = {33: ' ', 34: ' ', 35: ' ', 36: ' ', 37: ' ', 38: ' ', 39: ' ', 40: ' ', 41: ' ', 42: ' ', 43: ' ', 44: ' ', 45: ' ', 46: ' ', 47: ' ', 58: ' ', 59: ' ', 60: ' ', 61: ' ', 62: ' ', 63: ' ', 64: ' ', 91: ' ', 92: ' ', 93: ' ', 94: ' ', 95: ' ', 96: ' ', 123: ' ', 124: ' ', 125: ' ', 126: ' '}\n",
    "    return text.translate(table)\n",
    "\n",
    "def preprocess(df):\n",
    "    df['name_clean'] = df['name'].map(lambda x: x.lower())\n",
    "    df['name_clean'] = df['name_clean'].map(lambda x: remove_punct(x))\n",
    "    df['name_clean'] = df['name_clean'].map(lambda x: lat_rus(x))\n",
    "    df['name_clean'] = df['name_clean'].map(lambda x: re.sub(r'\\d+', ' ', x))\n",
    "    df['name_clean'] = df['name_clean'].map(lambda x: x.split(' '))\n",
    "    df['name_clean'] = df['name_clean'].map(lambda x: [token for token in x if token not in russian_stopwords\\\n",
    "                                                                      and token != \" \" \\\n",
    "                                                                      and token.strip() not in punctuation])\n",
    "\n",
    "#     for i in range(5, 50, 5):\n",
    "#         df[f'top{i}'] = df['name_clean'].map(lambda x: ' '.join(x[:i]))\n",
    "    \n",
    "    df['name_clean'] = df['name_clean'].map(lambda x: ' '.join(x))\n",
    "    \n",
    "    return df"
   ]
  },
  {
   "cell_type": "markdown",
   "metadata": {},
   "source": [
    "##### Применяем метод препроцессинга данных"
   ]
  },
  {
   "cell_type": "code",
   "execution_count": 38,
   "metadata": {},
   "outputs": [],
   "source": [
    "df_train = preprocess(df_train)\n",
    "df_test = preprocess(df_test)"
   ]
  },
  {
   "cell_type": "markdown",
   "metadata": {},
   "source": [
    "### Импортируем все что нужно для поиска гиперпараметров"
   ]
  },
  {
   "cell_type": "code",
   "execution_count": 39,
   "metadata": {
    "id": "lmalRfYZq1Xa"
   },
   "outputs": [],
   "source": [
    "from sklearn.pipeline import Pipeline\n",
    "from sklearn.feature_extraction.text import TfidfVectorizer, CountVectorizer\n",
    "from sklearn.linear_model import LogisticRegression\n",
    "from sklearn.neural_network import MLPClassifier\n",
    "from sklearn.model_selection import GridSearchCV, RandomizedSearchCV\n",
    "from sklearn.metrics import recall_score\n",
    "from sklearn.metrics import make_scorer"
   ]
  },
  {
   "cell_type": "markdown",
   "metadata": {},
   "source": [
    "##### Небольшой хак - ищем гиперпараметры по метрике лидерборда"
   ]
  },
  {
   "cell_type": "code",
   "execution_count": 40,
   "metadata": {},
   "outputs": [],
   "source": [
    "def macro_recall(y_true, y_pred):\n",
    "    return recall_score(y_true, y_pred, average='macro')"
   ]
  },
  {
   "cell_type": "code",
   "execution_count": 41,
   "metadata": {},
   "outputs": [],
   "source": [
    "RScore = make_scorer(macro_recall)"
   ]
  },
  {
   "cell_type": "markdown",
   "metadata": {
    "id": "870l_9AGdTvF"
   },
   "source": [
    "## Выделим обучающую выборку"
   ]
  },
  {
   "cell_type": "code",
   "execution_count": 42,
   "metadata": {
    "id": "R4fN_sD-dGSG"
   },
   "outputs": [],
   "source": [
    "X_train = df_train[\"name_clean\"]\n",
    "y_train = df_train[\"groups\"]"
   ]
  },
  {
   "cell_type": "code",
   "execution_count": 43,
   "metadata": {},
   "outputs": [],
   "source": [
    "parameters = {\n",
    "    'vect__max_df': (0.5, 0.75, 1.0),\n",
    "    'vect__max_features': (None, 3000, 30000, 300000),\n",
    "    'vect__use_idf': (True, False),\n",
    "    'vect__norm': ('l1', 'l2', None),\n",
    "    'clf__solver': ['lbfgs', 'adam'],\n",
    "    'clf__max_iter': [1000, 2000],\n",
    "    'clf__alpha': 10.0 ** -np.arange(1, 10, 5),\n",
    "    'clf__hidden_layer_sizes': [(100,), (100, 100,), (100, 100, 100,), (100, 100, 100, 100,)],\n",
    "    'random_state': [42]}"
   ]
  },
  {
   "cell_type": "code",
   "execution_count": 44,
   "metadata": {},
   "outputs": [],
   "source": [
    "pipeline = Pipeline([\n",
    "           ('vect', TfidfVectorizer()), ('clf', MLPClassifier())]\n",
    ")"
   ]
  },
  {
   "cell_type": "markdown",
   "metadata": {},
   "source": [
    "#### Из-за слишком большого кол-ва вариантов используем RandomizedSearchCV"
   ]
  },
  {
   "cell_type": "code",
   "execution_count": 45,
   "metadata": {},
   "outputs": [],
   "source": [
    "grid_cv = RandomizedSearchCV(pipeline, parameters, scoring=RScore, cv=5, n_jobs=-1, n_iter=100)"
   ]
  },
  {
   "cell_type": "code",
   "execution_count": null,
   "metadata": {},
   "outputs": [],
   "source": [
    "grid_cv.fit(X_train, y_train)"
   ]
  },
  {
   "cell_type": "code",
   "execution_count": null,
   "metadata": {},
   "outputs": [],
   "source": [
    "grid_cv.best_params_"
   ]
  },
  {
   "cell_type": "markdown",
   "metadata": {},
   "source": [
    "### Обучение на всех данных"
   ]
  },
  {
   "cell_type": "code",
   "execution_count": 33,
   "metadata": {},
   "outputs": [],
   "source": [
    "full_pipeline = Pipeline([\n",
    "           ('vect', TfidfVectorizer()), ('clf', MLPClassifier())]\n",
    ")"
   ]
  },
  {
   "cell_type": "code",
   "execution_count": 34,
   "metadata": {},
   "outputs": [
    {
     "name": "stdout",
     "output_type": "stream",
     "text": [
      "Model with best params {full_pipeline}\n"
     ]
    }
   ],
   "source": [
    "full_pipeline.set_params(**grid_cv.best_params_)\n",
    "print(\"Model with best params {full_pipeline}\")"
   ]
  },
  {
   "cell_type": "code",
   "execution_count": null,
   "metadata": {},
   "outputs": [],
   "source": [
    "full_pipeline.fit(X_train, y_train)"
   ]
  },
  {
   "cell_type": "markdown",
   "metadata": {},
   "source": [
    "#### predict на Тесте"
   ]
  },
  {
   "cell_type": "code",
   "execution_count": 27,
   "metadata": {},
   "outputs": [],
   "source": [
    "X_test = df_test[\"name_clean\"]"
   ]
  },
  {
   "cell_type": "code",
   "execution_count": 28,
   "metadata": {},
   "outputs": [],
   "source": [
    "predicted = full_pipeline.predict(X_test)"
   ]
  },
  {
   "cell_type": "code",
   "execution_count": 29,
   "metadata": {},
   "outputs": [],
   "source": [
    "sample = pd.read_csv(\"sample_solution.csv\")"
   ]
  },
  {
   "cell_type": "code",
   "execution_count": 30,
   "metadata": {},
   "outputs": [
    {
     "data": {
      "text/plain": [
       "(282227, 282227)"
      ]
     },
     "execution_count": 30,
     "metadata": {},
     "output_type": "execute_result"
    }
   ],
   "source": [
    "len(sample), len(predicted)"
   ]
  },
  {
   "cell_type": "code",
   "execution_count": 31,
   "metadata": {},
   "outputs": [],
   "source": [
    "sample[\"groups\"] = predicted"
   ]
  },
  {
   "cell_type": "code",
   "execution_count": 32,
   "metadata": {},
   "outputs": [],
   "source": [
    "sample.to_csv(\"NN_GridCV_LongTrain.csv\", index=False)"
   ]
  }
 ],
 "metadata": {
  "colab": {
   "name": "rosstat_baseline.ipynb",
   "provenance": []
  },
  "kernelspec": {
   "display_name": "Python 3 (ipykernel)",
   "language": "python",
   "name": "python3"
  },
  "language_info": {
   "codemirror_mode": {
    "name": "ipython",
    "version": 3
   },
   "file_extension": ".py",
   "mimetype": "text/x-python",
   "name": "python",
   "nbconvert_exporter": "python",
   "pygments_lexer": "ipython3",
   "version": "3.8.10"
  }
 },
 "nbformat": 4,
 "nbformat_minor": 1
}
